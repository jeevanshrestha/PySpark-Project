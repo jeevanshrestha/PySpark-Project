{
 "cells": [
  {
   "cell_type": "code",
   "execution_count": 1,
   "id": "06d10f9b",
   "metadata": {},
   "outputs": [],
   "source": [
    "from pyspark import SparkConf, SparkContext"
   ]
  },
  {
   "cell_type": "code",
   "execution_count": 11,
   "id": "4923c5b4",
   "metadata": {},
   "outputs": [],
   "source": [
    "conf = conf.setMaster(\"spark://spark-master:7077\")"
   ]
  },
  {
   "cell_type": "code",
   "execution_count": null,
   "id": "973f6e16",
   "metadata": {},
   "outputs": [],
   "source": [
    "  \n",
    "sc = SparkContext.getOrCreate(conf=conf)"
   ]
  },
  {
   "cell_type": "code",
   "execution_count": 6,
   "id": "3773fda2",
   "metadata": {},
   "outputs": [],
   "source": [
    "import os\n",
    "directory = os.getcwd()\n",
    "data_path = os.path.join(directory, '../data')"
   ]
  },
  {
   "cell_type": "code",
   "execution_count": 7,
   "id": "20dd4c7e",
   "metadata": {},
   "outputs": [
    {
     "ename": "NameError",
     "evalue": "name 'sc' is not defined",
     "output_type": "error",
     "traceback": [
      "\u001b[31m---------------------------------------------------------------------------\u001b[39m",
      "\u001b[31mNameError\u001b[39m                                 Traceback (most recent call last)",
      "\u001b[36mCell\u001b[39m\u001b[36m \u001b[39m\u001b[32mIn[7]\u001b[39m\u001b[32m, line 1\u001b[39m\n\u001b[32m----> \u001b[39m\u001b[32m1\u001b[39m text = \u001b[43msc\u001b[49m.textFile(\u001b[33mf\u001b[39m\u001b[33m'\u001b[39m\u001b[38;5;132;01m{\u001b[39;00mdata_path\u001b[38;5;132;01m}\u001b[39;00m\u001b[33m/sample.txt\u001b[39m\u001b[33m'\u001b[39m)\n",
      "\u001b[31mNameError\u001b[39m: name 'sc' is not defined"
     ]
    }
   ],
   "source": [
    "text = sc.textFile(f'{data_path}/sample.txt')"
   ]
  },
  {
   "cell_type": "code",
   "execution_count": null,
   "id": "fab041b5",
   "metadata": {},
   "outputs": [],
   "source": []
  }
 ],
 "metadata": {
  "kernelspec": {
   "display_name": "Python 3",
   "language": "python",
   "name": "python3"
  },
  "language_info": {
   "codemirror_mode": {
    "name": "ipython",
    "version": 3
   },
   "file_extension": ".py",
   "mimetype": "text/x-python",
   "name": "python",
   "nbconvert_exporter": "python",
   "pygments_lexer": "ipython3",
   "version": "3.13.3"
  }
 },
 "nbformat": 4,
 "nbformat_minor": 5
}
